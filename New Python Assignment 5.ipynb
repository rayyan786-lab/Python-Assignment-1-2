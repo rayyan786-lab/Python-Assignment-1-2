{
 "cells": [
  {
   "cell_type": "code",
   "execution_count": 1,
   "metadata": {},
   "outputs": [
    {
     "name": "stdout",
     "output_type": "stream",
     "text": [
      "120\n"
     ]
    }
   ],
   "source": [
    "def factorial (n):\n",
    "    if n==0:\n",
    "        return 1\n",
    "    else:\n",
    "        return n*factorial(n-1)\n",
    "print(factorial(5))\n"
   ]
  },
  {
   "cell_type": "code",
   "execution_count": 2,
   "metadata": {},
   "outputs": [
    {
     "name": "stdout",
     "output_type": "stream",
     "text": [
      "Statement :  Muhammad Rayyan Bin Riaz\n",
      "No. of Upper case letters in statement:  4\n",
      "No. of Lower case letters in statement:  17\n"
     ]
    }
   ],
   "source": [
    "def statement(line):\n",
    "    upper=0\n",
    "    lower=0\n",
    "    for c in line:\n",
    "        if c.isupper():\n",
    "            upper=upper+1\n",
    "        elif c.islower():\n",
    "            lower=lower+1\n",
    "    print (\"Statement : \",line)   \n",
    "    print (\"No. of Upper case letters in statement: \", upper)\n",
    "    print (\"No. of Lower case letters in statement: \", lower)\n",
    "\n",
    "statement(\"Muhammad Rayyan Bin Riaz\")"
   ]
  },
  {
   "cell_type": "code",
   "execution_count": 3,
   "metadata": {},
   "outputs": [
    {
     "name": "stdout",
     "output_type": "stream",
     "text": [
      "2\n",
      "4\n",
      "6\n",
      "None\n"
     ]
    }
   ],
   "source": [
    "def even_num(a):\n",
    "    for n in a:\n",
    "        if n%2==0:\n",
    "            print(n)\n",
    "        else:\n",
    "            pass\n",
    "print(even_num([1,2,3,4,5,6]))"
   ]
  },
  {
   "cell_type": "code",
   "execution_count": 10,
   "metadata": {},
   "outputs": [
    {
     "name": "stdout",
     "output_type": "stream",
     "text": [
      "2\n",
      "4\n",
      "6\n",
      "None\n"
     ]
    }
   ],
   "source": [
    "def is_even_num(a):\n",
    "    list = []    #For making an empty list\n",
    "    for n in a:\n",
    "        if n % 2 == 0:\n",
    "            list.append(n)  #Putting data in empty list\n",
    "    return enum\n",
    "print(even_num([1, 2, 3, 4, 5, 6]))\n"
   ]
  },
  {
   "cell_type": "code",
   "execution_count": 34,
   "metadata": {},
   "outputs": [
    {
     "name": "stdout",
     "output_type": "stream",
     "text": [
      "True\n"
     ]
    }
   ],
   "source": [
    "def Palindrome(word):\n",
    "    left_pos = 0\n",
    "    right_pos = len(word) - 1\n",
    "    \n",
    "    while right_pos >= left_pos:\n",
    "        if not word[left_pos] == word[right_pos]:\n",
    "            return False\n",
    "        left_pos += 1\n",
    "        right_pos -= 1\n",
    "    return True\n",
    "print(Palindrome('madam'))"
   ]
  },
  {
   "cell_type": "code",
   "execution_count": 37,
   "metadata": {},
   "outputs": [
    {
     "name": "stdout",
     "output_type": "stream",
     "text": [
      "True\n"
     ]
    }
   ],
   "source": [
    "def prime(n):\n",
    "    if (n==1):\n",
    "        return False\n",
    "    elif (n==2):\n",
    "        return True;\n",
    "    else:\n",
    "        for x in range(2,n):\n",
    "            if(n % x==0):\n",
    "                return False\n",
    "        return True             \n",
    "print(prime(7))"
   ]
  },
  {
   "cell_type": "code",
   "execution_count": null,
   "metadata": {},
   "outputs": [],
   "source": []
  }
 ],
 "metadata": {
  "kernelspec": {
   "display_name": "Python 3",
   "language": "python",
   "name": "python3"
  },
  "language_info": {
   "codemirror_mode": {
    "name": "ipython",
    "version": 3
   },
   "file_extension": ".py",
   "mimetype": "text/x-python",
   "name": "python",
   "nbconvert_exporter": "python",
   "pygments_lexer": "ipython3",
   "version": "3.7.4"
  }
 },
 "nbformat": 4,
 "nbformat_minor": 2
}
