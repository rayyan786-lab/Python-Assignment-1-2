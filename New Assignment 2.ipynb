{
 "cells": [
  {
   "cell_type": "code",
   "execution_count": 6,
   "metadata": {},
   "outputs": [
    {
     "name": "stdout",
     "output_type": "stream",
     "text": [
      "Enter marks for maths 45\n",
      "Enter marks for english 88\n",
      "Enter marks for stats75\n",
      "Enter marks for calculus 82\n",
      "Enter marks for programming 74.5\n",
      "Yoyr percentage is = 72.89999999999999 %\n",
      "Your grade = B\n"
     ]
    }
   ],
   "source": [
    "Maths=float(input(\"Enter marks for maths \"))\n",
    "English=float(input(\"Enter marks for english \"))\n",
    "Stats=float(input(\"Enter marks for stats\"))\n",
    "Calculus=float(input(\"Enter marks for calculus \"))\n",
    "Programming=float(input(\"Enter marks for programming \"))\n",
    "per=((Maths+English+Stats+Calculus+Programming)/500)*100\n",
    "print(\"Yoyr percentage is = \"+str(per)+\" %\")\n",
    "if per>=85:\n",
    "    print(\"Your grade = A+\")\n",
    "elif per >= 80 and per < 85:\n",
    "    print(\"Your grade = A\")\n",
    "elif per >= 75 and per < 80:\n",
    "    print(\"Your grade = B+\")\n",
    "elif per >= 70 and per < 75:\n",
    "    print(\"Your grade = B\")\n",
    "elif per >= 65 and per < 70:\n",
    "    print(\"Your grade = C+\")\n",
    "elif per >= 60 and per < 65:\n",
    "    print(\"Your grade = C\")\n",
    "elif per >= 55 and per < 60:\n",
    "    print(\"Your grade = D+\")\n",
    "elif per >= 50 and per < 55:\n",
    "    print(\"Your grade = D\")\n",
    "elif per < 50:\n",
    "    print(\"Your grade = F\")\n"
   ]
  },
  {
   "cell_type": "code",
   "execution_count": 5,
   "metadata": {},
   "outputs": [
    {
     "name": "stdout",
     "output_type": "stream",
     "text": [
      "Enter a number : 5\n",
      "5 Is an ODD number\n"
     ]
    }
   ],
   "source": [
    "num=int(input(\"Enter a number : \"))\n",
    "if num % 2 == 0:\n",
    "    print(str(num)+\" Is an EVEN number\")\n",
    "else:\n",
    "    print(str(num)+\" Is an ODD number\")"
   ]
  },
  {
   "cell_type": "code",
   "execution_count": 10,
   "metadata": {},
   "outputs": [],
   "source": [
    "list=[\"umair\",\"100\",6]"
   ]
  },
  {
   "cell_type": "code",
   "execution_count": 11,
   "metadata": {},
   "outputs": [
    {
     "name": "stdout",
     "output_type": "stream",
     "text": [
      "Total number of element in list are : 3\n"
     ]
    }
   ],
   "source": [
    "print(\"Total number of element in list are : \"+str(len(list)))"
   ]
  },
  {
   "cell_type": "code",
   "execution_count": 13,
   "metadata": {},
   "outputs": [
    {
     "name": "stdout",
     "output_type": "stream",
     "text": [
      "Sum of all element = 1000\n"
     ]
    }
   ],
   "source": [
    "list=[500, 200 , 100 , 200]\n",
    "total=list[0]+list[1]+list[2]+list[3]\n",
    "print(\"Sum of all element = \"+str(total))"
   ]
  },
  {
   "cell_type": "code",
   "execution_count": 15,
   "metadata": {},
   "outputs": [
    {
     "name": "stdout",
     "output_type": "stream",
     "text": [
      "The largest number is 1000\n"
     ]
    }
   ],
   "source": [
    "n_list=[500, 600 , 1000]\n",
    "if (n_list[0] > n_list[1]) and (n_list[0] > n_list[2]):\n",
    "    print(\"The largest number is \"+str(n_list[0]))\n",
    "elif (n_list[1] > n_list[0]) and (n_list[1] > n_list[2]):\n",
    "    print(\"The largest number is \"+str(n_list[1]))\n",
    "elif (n_list[2] > n_list[0]) and (n_list[2] > n_list[1]):\n",
    "    print(\"The largest number is \"+str(n_list[2]))\n",
    "\n"
   ]
  },
  {
   "cell_type": "code",
   "execution_count": 22,
   "metadata": {},
   "outputs": [
    {
     "data": {
      "text/plain": [
       "[1, 1, 2, 3, 5, 8, 13, 21]"
      ]
     },
     "execution_count": 22,
     "metadata": {},
     "output_type": "execute_result"
    }
   ],
   "source": [
    "a=[1, 1, 2, 3, 5, 8, 13, 21, 34, 55, 89]\n",
    "a[0:8]"
   ]
  },
  {
   "cell_type": "code",
   "execution_count": null,
   "metadata": {},
   "outputs": [],
   "source": []
  }
 ],
 "metadata": {
  "kernelspec": {
   "display_name": "Python 3",
   "language": "python",
   "name": "python3"
  },
  "language_info": {
   "codemirror_mode": {
    "name": "ipython",
    "version": 3
   },
   "file_extension": ".py",
   "mimetype": "text/x-python",
   "name": "python",
   "nbconvert_exporter": "python",
   "pygments_lexer": "ipython3",
   "version": "3.7.4"
  }
 },
 "nbformat": 4,
 "nbformat_minor": 2
}
