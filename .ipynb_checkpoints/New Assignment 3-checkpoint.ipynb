{
 "cells": [
  {
   "cell_type": "code",
   "execution_count": 2,
   "metadata": {},
   "outputs": [
    {
     "name": "stdout",
     "output_type": "stream",
     "text": [
      "Select operation.\n",
      "1.Add\n",
      "2.Subtract\n",
      "3.Multiply\n",
      "4.Divide\n",
      "Enter choice(1/2/3/4): 3\n",
      "Enter first number: 4\n",
      "Enter second number: 2\n",
      "Sum of two number is 8.0\n"
     ]
    }
   ],
   "source": [
    "\n",
    "def add(x, y):\n",
    "   return x + y\n",
    "def subtract(x, y):\n",
    "   return x - y\n",
    "def multiply(x, y):\n",
    "   return x * y\n",
    "def divide(x, y):\n",
    "   return x / y\n",
    "print(\"Select operation.\")\n",
    "print(\"1.Add\")\n",
    "print(\"2.Subtract\")\n",
    "print(\"3.Multiply\")\n",
    "print(\"4.Divide\") \n",
    "choice = input(\"Enter choice(1/2/3/4): \")\n",
    "num1 = float(input(\"Enter first number: \"))\n",
    "num2 = float(input(\"Enter second number: \"))\n",
    "if choice == '1':\n",
    "   print(\"Sum of two number is\", add(num1,num2))\n",
    "elif choice == '2':\n",
    "   print(\"Sum of two number is\", subtract(num1,num2))\n",
    "elif choice == '3':\n",
    "   print(\"Sum of two number is\", multiply(num1,num2))\n",
    "elif choice == '4':\n",
    "   print(\"Sum of two number is\", divide(num1,num2))\n",
    "else:\n",
    "   print(\"Invalid input\")"
   ]
  },
  {
   "cell_type": "code",
   "execution_count": 1,
   "metadata": {},
   "outputs": [
    {
     "name": "stdout",
     "output_type": "stream",
     "text": [
      "Enter a number which you want to check in a list: 5\n",
      "Your required number is exist in a list\n"
     ]
    }
   ],
   "source": [
    "list=[1,2,3,4,5]\n",
    "a=int(input(\"Enter a number which you want to check in a list: \"))\n",
    "for i in list:\n",
    "    if(i>4):\n",
    "        print(\"Your required number is exist in a list\")"
   ]
  },
  {
   "cell_type": "markdown",
   "metadata": {},
   "source": [
    "dict = {'key1':'Rayyan', 'key2':'Azhan'} \n",
    "print(\"In Dictionary data is: \", dict) \n",
    "dict.update({'key3':'Hamza'}) \n",
    "print(\"Updated Dict is: \", dict) "
   ]
  },
  {
   "cell_type": "code",
   "execution_count": 19,
   "metadata": {},
   "outputs": [
    {
     "name": "stdout",
     "output_type": "stream",
     "text": [
      "Sum : 1000\n"
     ]
    }
   ],
   "source": [
    "def Sum(Dict): \n",
    "      \n",
    "    sum = 0\n",
    "    for i in dict: \n",
    "        sum = sum + dict[i] \n",
    "    return sum\n",
    "  \n",
    "\n",
    "dict = {'a': 100, 'b':200, 'c':300, 'd':400} \n",
    "print(\"Sum :\", Sum(dict)) "
   ]
  },
  {
   "cell_type": "code",
   "execution_count": 22,
   "metadata": {},
   "outputs": [
    {
     "name": "stdout",
     "output_type": "stream",
     "text": [
      "Key is not present in the dictionary\n"
     ]
    }
   ],
   "source": [
    "d = {1: 10, 2: 20, 3: 30, 4: 40, 5: 50, 6: 60}\n",
    "def is_key_present(x):\n",
    "  if x in d:\n",
    "      print('Key is present in the dictionary')\n",
    "  else:\n",
    "      print('Key is not present in the dictionary')\n",
    "is_key_present(7)"
   ]
  },
  {
   "cell_type": "code",
   "execution_count": null,
   "metadata": {},
   "outputs": [],
   "source": []
  }
 ],
 "metadata": {
  "kernelspec": {
   "display_name": "Python 3",
   "language": "python",
   "name": "python3"
  },
  "language_info": {
   "codemirror_mode": {
    "name": "ipython",
    "version": 3
   },
   "file_extension": ".py",
   "mimetype": "text/x-python",
   "name": "python",
   "nbconvert_exporter": "python",
   "pygments_lexer": "ipython3",
   "version": "3.7.4"
  }
 },
 "nbformat": 4,
 "nbformat_minor": 2
}
