{
 "cells": [
  {
   "cell_type": "code",
   "execution_count": 1,
   "metadata": {},
   "outputs": [
    {
     "name": "stdout",
     "output_type": "stream",
     "text": [
      "Information stored in dictionary are:\n",
      "Muhammad\n",
      "Rayyan\n",
      "18\n",
      "karachi\n",
      "Information stored in dictionary after adding new key about qualification are:\n",
      "Muhammad\n",
      "Rayyan\n",
      "18\n",
      "karachi\n",
      "Bachelor of Science\n",
      "Information stored in dictionary after aupdating new key about qualification are:\n",
      "Muhammad\n",
      "Rayyan\n",
      "18\n",
      "karachi\n",
      "Master in Science\n",
      "Information stored in dictionary after deleting new key about qualification are:\n",
      "Muhammad\n",
      "Rayyan\n",
      "18\n",
      "karachi\n"
     ]
    }
   ],
   "source": [
    "customer={\n",
    "    \"first name\":\"Muhammad\",\"last name\":\"Rayyan\",\"age\":\"18\",\"city\":\"karachi\"\n",
    "}\n",
    "print(\"Information stored in dictionary are:\")\n",
    "for a in customer:\n",
    "    print(customer[a])\n",
    "    \n",
    "print(\"Information stored in dictionary after adding new key about qualification are:\")\n",
    "customer[\"qualification\"]=\"Bachelor of Science\"\n",
    "for a in customer:\n",
    "    print(customer[a])\n",
    "    \n",
    "print(\"Information stored in dictionary after aupdating new key about qualification are:\")\n",
    "customer[\"qualification\"]=\"Master in Science\"\n",
    "for a in customer:\n",
    "    print(customer[a])\n",
    "    \n",
    "print(\"Information stored in dictionary after deleting new key about qualification are:\")\n",
    "del customer[\"qualification\"]\n",
    "for a in customer:\n",
    "    print(customer[a])"
   ]
  },
  {
   "cell_type": "code",
   "execution_count": 2,
   "metadata": {},
   "outputs": [
    {
     "name": "stdout",
     "output_type": "stream",
     "text": [
      "{'Karachi': {'country': 'Pakistan', 'population': 14.91, 'fact': 'City of light'}, 'Washington': {'country': 'Unites State Of America', 'population': 633427, 'fact': 'Capital of USA'}, 'New Delhi': {'country': 'India', 'population': 21.75, 'fact': 'Crowded city'}}\n"
     ]
    }
   ],
   "source": [
    "dictionary={\n",
    "    \"Karachi\":{\n",
    "        \"country\":\"Pakistan\",\n",
    "        \"population\":14.91,\n",
    "        \"fact\":\"City of light\"\n",
    "    },\n",
    "    \"Washington\":{\n",
    "        \"country\":\"Unites State Of America\",\n",
    "        \"population\":633427,\n",
    "        \"fact\":\"Capital of USA\",\n",
    "    },\n",
    "    \"New Delhi\":{\n",
    "        \"country\":\"India\",\n",
    "        \"population\":21.75,\n",
    "        \"fact\":\"Crowded city\"\n",
    "    }  \n",
    "}\n",
    "print(dictionary)"
   ]
  },
  {
   "cell_type": "code",
   "execution_count": 7,
   "metadata": {},
   "outputs": [
    {
     "name": "stdout",
     "output_type": "stream",
     "text": [
      "How many do you want to know the price of ticket for specific ages: 3\n",
      "Enter your age: 2\n",
      "Ticket is free\n",
      "Enter your age: 6\n",
      "Ticket is $10\n",
      "Enter your age: 26\n",
      "Ticket is $15\n"
     ]
    }
   ],
   "source": [
    "loops = int(input(\"How many do you want to know the price of ticket for specific ages: \"))\n",
    "inputs = {}\n",
    "for x in range(loops):\n",
    "    inputs[x] = int(input(\"Enter your age: \"))\n",
    "    if inputs[x] < 3:\n",
    "        print(\"Ticket is free\")\n",
    "    elif inputs[x] > 3 and inputs[x] < 12:\n",
    "        print(\"Ticket is $10\")\n",
    "    elif inputs[x] > 12:\n",
    "        print(\"Ticket is $15\")\n",
    "    "
   ]
  },
  {
   "cell_type": "code",
   "execution_count": 9,
   "metadata": {},
   "outputs": [
    {
     "name": "stdout",
     "output_type": "stream",
     "text": [
      "One of my favorite book is Alice in wonderland\n"
     ]
    }
   ],
   "source": [
    "def favorite_book(title):\n",
    "    \n",
    "    print(\"One of my favorite book is \"+title)\n",
    "\n",
    "favorite_book('Alice in wonderland')"
   ]
  },
  {
   "cell_type": "code",
   "execution_count": null,
   "metadata": {},
   "outputs": [],
   "source": []
  }
 ],
 "metadata": {
  "kernelspec": {
   "display_name": "Python 3",
   "language": "python",
   "name": "python3"
  },
  "language_info": {
   "codemirror_mode": {
    "name": "ipython",
    "version": 3
   },
   "file_extension": ".py",
   "mimetype": "text/x-python",
   "name": "python",
   "nbconvert_exporter": "python",
   "pygments_lexer": "ipython3",
   "version": "3.7.4"
  }
 },
 "nbformat": 4,
 "nbformat_minor": 2
}
